{
 "cells": [
  {
   "cell_type": "markdown",
   "metadata": {},
   "source": [
    "# import package"
   ]
  },
  {
   "cell_type": "code",
   "execution_count": 1,
   "metadata": {},
   "outputs": [],
   "source": [
    "from matplotlib import pyplot as plt\n",
    "from sklearn.preprocessing import LabelEncoder   # for convert catogrical data to no \n",
    "import pandas as pd\n",
    "import numpy as np\n",
    "import seaborn as sns\n",
    "import random\n",
    "import utils"
   ]
  },
  {
   "cell_type": "code",
   "execution_count": null,
   "metadata": {},
   "outputs": [],
   "source": []
  },
  {
   "cell_type": "markdown",
   "metadata": {},
   "source": [
    "# import data "
   ]
  },
  {
   "cell_type": "code",
   "execution_count": 3,
   "metadata": {},
   "outputs": [
    {
     "data": {
      "text/html": [
       "<div>\n",
       "<style scoped>\n",
       "    .dataframe tbody tr th:only-of-type {\n",
       "        vertical-align: middle;\n",
       "    }\n",
       "\n",
       "    .dataframe tbody tr th {\n",
       "        vertical-align: top;\n",
       "    }\n",
       "\n",
       "    .dataframe thead th {\n",
       "        text-align: right;\n",
       "    }\n",
       "</style>\n",
       "<table border=\"1\" class=\"dataframe\">\n",
       "  <thead>\n",
       "    <tr style=\"text-align: right;\">\n",
       "      <th></th>\n",
       "      <th>ID</th>\n",
       "      <th>Area</th>\n",
       "      <th>Perimeter</th>\n",
       "      <th>MajorAxisLength</th>\n",
       "      <th>MinorAxisLength</th>\n",
       "      <th>AspectRation</th>\n",
       "      <th>Eccentricity</th>\n",
       "      <th>ConvexArea</th>\n",
       "      <th>EquivDiameter</th>\n",
       "      <th>Extent</th>\n",
       "      <th>Solidity</th>\n",
       "      <th>roundness</th>\n",
       "      <th>Compactness</th>\n",
       "      <th>ShapeFactor1</th>\n",
       "      <th>ShapeFactor2</th>\n",
       "      <th>ShapeFactor3</th>\n",
       "      <th>ShapeFactor4</th>\n",
       "      <th>y</th>\n",
       "    </tr>\n",
       "  </thead>\n",
       "  <tbody>\n",
       "    <tr>\n",
       "      <th>0</th>\n",
       "      <td>0</td>\n",
       "      <td>58238</td>\n",
       "      <td>971.303</td>\n",
       "      <td>397.202654</td>\n",
       "      <td>186.945510</td>\n",
       "      <td>2.124697</td>\n",
       "      <td>0.882317</td>\n",
       "      <td>58977</td>\n",
       "      <td>272.306674</td>\n",
       "      <td>0.604756</td>\n",
       "      <td>0.987470</td>\n",
       "      <td>0.775723</td>\n",
       "      <td>0.685561</td>\n",
       "      <td>0.006820</td>\n",
       "      <td>0.000929</td>\n",
       "      <td>0.469994</td>\n",
       "      <td>0.998595</td>\n",
       "      <td>HOROZ</td>\n",
       "    </tr>\n",
       "    <tr>\n",
       "      <th>1</th>\n",
       "      <td>1</td>\n",
       "      <td>44515</td>\n",
       "      <td>757.601</td>\n",
       "      <td>265.590470</td>\n",
       "      <td>213.967453</td>\n",
       "      <td>1.241266</td>\n",
       "      <td>0.592420</td>\n",
       "      <td>44780</td>\n",
       "      <td>238.071960</td>\n",
       "      <td>0.771745</td>\n",
       "      <td>0.994082</td>\n",
       "      <td>0.974620</td>\n",
       "      <td>0.896387</td>\n",
       "      <td>0.005966</td>\n",
       "      <td>0.002376</td>\n",
       "      <td>0.803510</td>\n",
       "      <td>0.997370</td>\n",
       "      <td>SEKER</td>\n",
       "    </tr>\n",
       "    <tr>\n",
       "      <th>2</th>\n",
       "      <td>2</td>\n",
       "      <td>31662</td>\n",
       "      <td>653.783</td>\n",
       "      <td>239.902428</td>\n",
       "      <td>168.421505</td>\n",
       "      <td>1.424417</td>\n",
       "      <td>0.712136</td>\n",
       "      <td>32034</td>\n",
       "      <td>200.781748</td>\n",
       "      <td>0.801407</td>\n",
       "      <td>0.988387</td>\n",
       "      <td>0.930853</td>\n",
       "      <td>0.836931</td>\n",
       "      <td>0.007577</td>\n",
       "      <td>0.002293</td>\n",
       "      <td>0.700453</td>\n",
       "      <td>0.997737</td>\n",
       "      <td>DERMASON</td>\n",
       "    </tr>\n",
       "    <tr>\n",
       "      <th>3</th>\n",
       "      <td>3</td>\n",
       "      <td>38778</td>\n",
       "      <td>734.020</td>\n",
       "      <td>268.446281</td>\n",
       "      <td>184.061923</td>\n",
       "      <td>1.458456</td>\n",
       "      <td>0.727925</td>\n",
       "      <td>39208</td>\n",
       "      <td>222.201897</td>\n",
       "      <td>0.766137</td>\n",
       "      <td>0.989033</td>\n",
       "      <td>0.904439</td>\n",
       "      <td>0.827733</td>\n",
       "      <td>0.006923</td>\n",
       "      <td>0.002005</td>\n",
       "      <td>0.685142</td>\n",
       "      <td>0.999250</td>\n",
       "      <td>DERMASON</td>\n",
       "    </tr>\n",
       "    <tr>\n",
       "      <th>4</th>\n",
       "      <td>4</td>\n",
       "      <td>42530</td>\n",
       "      <td>775.403</td>\n",
       "      <td>281.212824</td>\n",
       "      <td>193.236878</td>\n",
       "      <td>1.455275</td>\n",
       "      <td>0.726511</td>\n",
       "      <td>43028</td>\n",
       "      <td>232.703412</td>\n",
       "      <td>0.729816</td>\n",
       "      <td>0.988426</td>\n",
       "      <td>0.888895</td>\n",
       "      <td>0.827499</td>\n",
       "      <td>0.006612</td>\n",
       "      <td>0.001912</td>\n",
       "      <td>0.684755</td>\n",
       "      <td>0.996507</td>\n",
       "      <td>SIRA</td>\n",
       "    </tr>\n",
       "    <tr>\n",
       "      <th>...</th>\n",
       "      <td>...</td>\n",
       "      <td>...</td>\n",
       "      <td>...</td>\n",
       "      <td>...</td>\n",
       "      <td>...</td>\n",
       "      <td>...</td>\n",
       "      <td>...</td>\n",
       "      <td>...</td>\n",
       "      <td>...</td>\n",
       "      <td>...</td>\n",
       "      <td>...</td>\n",
       "      <td>...</td>\n",
       "      <td>...</td>\n",
       "      <td>...</td>\n",
       "      <td>...</td>\n",
       "      <td>...</td>\n",
       "      <td>...</td>\n",
       "      <td>...</td>\n",
       "    </tr>\n",
       "    <tr>\n",
       "      <th>10829</th>\n",
       "      <td>10829</td>\n",
       "      <td>37777</td>\n",
       "      <td>716.007</td>\n",
       "      <td>250.174662</td>\n",
       "      <td>192.704033</td>\n",
       "      <td>1.298233</td>\n",
       "      <td>0.637708</td>\n",
       "      <td>38174</td>\n",
       "      <td>219.315230</td>\n",
       "      <td>0.770519</td>\n",
       "      <td>0.989600</td>\n",
       "      <td>0.925983</td>\n",
       "      <td>0.876648</td>\n",
       "      <td>0.006622</td>\n",
       "      <td>0.002413</td>\n",
       "      <td>0.768513</td>\n",
       "      <td>0.997708</td>\n",
       "      <td>SEKER</td>\n",
       "    </tr>\n",
       "    <tr>\n",
       "      <th>10830</th>\n",
       "      <td>10830</td>\n",
       "      <td>32187</td>\n",
       "      <td>667.621</td>\n",
       "      <td>247.778775</td>\n",
       "      <td>165.786862</td>\n",
       "      <td>1.494562</td>\n",
       "      <td>0.743179</td>\n",
       "      <td>32582</td>\n",
       "      <td>202.439525</td>\n",
       "      <td>0.731805</td>\n",
       "      <td>0.987877</td>\n",
       "      <td>0.907466</td>\n",
       "      <td>0.817017</td>\n",
       "      <td>0.007698</td>\n",
       "      <td>0.002116</td>\n",
       "      <td>0.667517</td>\n",
       "      <td>0.997646</td>\n",
       "      <td>DERMASON</td>\n",
       "    </tr>\n",
       "    <tr>\n",
       "      <th>10831</th>\n",
       "      <td>10831</td>\n",
       "      <td>81837</td>\n",
       "      <td>1095.937</td>\n",
       "      <td>433.838186</td>\n",
       "      <td>241.527026</td>\n",
       "      <td>1.796230</td>\n",
       "      <td>0.830699</td>\n",
       "      <td>82554</td>\n",
       "      <td>322.797312</td>\n",
       "      <td>0.771996</td>\n",
       "      <td>0.991315</td>\n",
       "      <td>0.856226</td>\n",
       "      <td>0.744050</td>\n",
       "      <td>0.005301</td>\n",
       "      <td>0.001002</td>\n",
       "      <td>0.553610</td>\n",
       "      <td>0.994412</td>\n",
       "      <td>CALI</td>\n",
       "    </tr>\n",
       "    <tr>\n",
       "      <th>10832</th>\n",
       "      <td>10832</td>\n",
       "      <td>48212</td>\n",
       "      <td>826.362</td>\n",
       "      <td>309.639462</td>\n",
       "      <td>199.285811</td>\n",
       "      <td>1.553746</td>\n",
       "      <td>0.765357</td>\n",
       "      <td>48777</td>\n",
       "      <td>247.760822</td>\n",
       "      <td>0.677002</td>\n",
       "      <td>0.988417</td>\n",
       "      <td>0.887206</td>\n",
       "      <td>0.800159</td>\n",
       "      <td>0.006422</td>\n",
       "      <td>0.001624</td>\n",
       "      <td>0.640255</td>\n",
       "      <td>0.994793</td>\n",
       "      <td>SIRA</td>\n",
       "    </tr>\n",
       "    <tr>\n",
       "      <th>10833</th>\n",
       "      <td>10833</td>\n",
       "      <td>28026</td>\n",
       "      <td>610.943</td>\n",
       "      <td>215.446569</td>\n",
       "      <td>165.740377</td>\n",
       "      <td>1.299904</td>\n",
       "      <td>0.638903</td>\n",
       "      <td>28302</td>\n",
       "      <td>188.901592</td>\n",
       "      <td>0.776688</td>\n",
       "      <td>0.990248</td>\n",
       "      <td>0.943560</td>\n",
       "      <td>0.876791</td>\n",
       "      <td>0.007687</td>\n",
       "      <td>0.002802</td>\n",
       "      <td>0.768762</td>\n",
       "      <td>0.999317</td>\n",
       "      <td>DERMASON</td>\n",
       "    </tr>\n",
       "  </tbody>\n",
       "</table>\n",
       "<p>10834 rows × 18 columns</p>\n",
       "</div>"
      ],
      "text/plain": [
       "          ID   Area  Perimeter  MajorAxisLength  MinorAxisLength  \\\n",
       "0          0  58238    971.303       397.202654       186.945510   \n",
       "1          1  44515    757.601       265.590470       213.967453   \n",
       "2          2  31662    653.783       239.902428       168.421505   \n",
       "3          3  38778    734.020       268.446281       184.061923   \n",
       "4          4  42530    775.403       281.212824       193.236878   \n",
       "...      ...    ...        ...              ...              ...   \n",
       "10829  10829  37777    716.007       250.174662       192.704033   \n",
       "10830  10830  32187    667.621       247.778775       165.786862   \n",
       "10831  10831  81837   1095.937       433.838186       241.527026   \n",
       "10832  10832  48212    826.362       309.639462       199.285811   \n",
       "10833  10833  28026    610.943       215.446569       165.740377   \n",
       "\n",
       "       AspectRation  Eccentricity  ConvexArea  EquivDiameter    Extent  \\\n",
       "0          2.124697      0.882317       58977     272.306674  0.604756   \n",
       "1          1.241266      0.592420       44780     238.071960  0.771745   \n",
       "2          1.424417      0.712136       32034     200.781748  0.801407   \n",
       "3          1.458456      0.727925       39208     222.201897  0.766137   \n",
       "4          1.455275      0.726511       43028     232.703412  0.729816   \n",
       "...             ...           ...         ...            ...       ...   \n",
       "10829      1.298233      0.637708       38174     219.315230  0.770519   \n",
       "10830      1.494562      0.743179       32582     202.439525  0.731805   \n",
       "10831      1.796230      0.830699       82554     322.797312  0.771996   \n",
       "10832      1.553746      0.765357       48777     247.760822  0.677002   \n",
       "10833      1.299904      0.638903       28302     188.901592  0.776688   \n",
       "\n",
       "       Solidity  roundness  Compactness  ShapeFactor1  ShapeFactor2  \\\n",
       "0      0.987470   0.775723     0.685561      0.006820      0.000929   \n",
       "1      0.994082   0.974620     0.896387      0.005966      0.002376   \n",
       "2      0.988387   0.930853     0.836931      0.007577      0.002293   \n",
       "3      0.989033   0.904439     0.827733      0.006923      0.002005   \n",
       "4      0.988426   0.888895     0.827499      0.006612      0.001912   \n",
       "...         ...        ...          ...           ...           ...   \n",
       "10829  0.989600   0.925983     0.876648      0.006622      0.002413   \n",
       "10830  0.987877   0.907466     0.817017      0.007698      0.002116   \n",
       "10831  0.991315   0.856226     0.744050      0.005301      0.001002   \n",
       "10832  0.988417   0.887206     0.800159      0.006422      0.001624   \n",
       "10833  0.990248   0.943560     0.876791      0.007687      0.002802   \n",
       "\n",
       "       ShapeFactor3  ShapeFactor4         y  \n",
       "0          0.469994      0.998595     HOROZ  \n",
       "1          0.803510      0.997370     SEKER  \n",
       "2          0.700453      0.997737  DERMASON  \n",
       "3          0.685142      0.999250  DERMASON  \n",
       "4          0.684755      0.996507      SIRA  \n",
       "...             ...           ...       ...  \n",
       "10829      0.768513      0.997708     SEKER  \n",
       "10830      0.667517      0.997646  DERMASON  \n",
       "10831      0.553610      0.994412      CALI  \n",
       "10832      0.640255      0.994793      SIRA  \n",
       "10833      0.768762      0.999317  DERMASON  \n",
       "\n",
       "[10834 rows x 18 columns]"
      ]
     },
     "execution_count": 3,
     "metadata": {},
     "output_type": "execute_result"
    }
   ],
   "source": [
    "#data =pd.read_csv(\"train.csv\")\n",
    "#data\n",
    "data = pd.read_csv('train.csv')\n",
    "data"
   ]
  },
  {
   "cell_type": "markdown",
   "metadata": {},
   "source": [
    "# Expolatort data analysis (EDA)"
   ]
  },
  {
   "cell_type": "code",
   "execution_count": 4,
   "metadata": {},
   "outputs": [
    {
     "data": {
      "text/plain": [
       "array(['HOROZ', 'SEKER', 'DERMASON', 'SIRA', 'BARBUNYA', 'CALI', 'BOMBAY'],\n",
       "      dtype=object)"
      ]
     },
     "execution_count": 4,
     "metadata": {},
     "output_type": "execute_result"
    }
   ],
   "source": [
    "data['y'].unique()"
   ]
  },
  {
   "cell_type": "code",
   "execution_count": 5,
   "metadata": {},
   "outputs": [
    {
     "data": {
      "text/plain": [
       "<bound method Series.sum of 0        False\n",
       "1        False\n",
       "2        False\n",
       "3        False\n",
       "4        False\n",
       "         ...  \n",
       "10829    False\n",
       "10830    False\n",
       "10831    False\n",
       "10832    False\n",
       "10833    False\n",
       "Length: 10834, dtype: bool>"
      ]
     },
     "execution_count": 5,
     "metadata": {},
     "output_type": "execute_result"
    }
   ],
   "source": [
    "data.duplicated().sum"
   ]
  },
  {
   "cell_type": "code",
   "execution_count": 6,
   "metadata": {},
   "outputs": [
    {
     "data": {
      "text/html": [
       "<div>\n",
       "<style scoped>\n",
       "    .dataframe tbody tr th:only-of-type {\n",
       "        vertical-align: middle;\n",
       "    }\n",
       "\n",
       "    .dataframe tbody tr th {\n",
       "        vertical-align: top;\n",
       "    }\n",
       "\n",
       "    .dataframe thead th {\n",
       "        text-align: right;\n",
       "    }\n",
       "</style>\n",
       "<table border=\"1\" class=\"dataframe\">\n",
       "  <thead>\n",
       "    <tr style=\"text-align: right;\">\n",
       "      <th></th>\n",
       "      <th>ID</th>\n",
       "      <th>Area</th>\n",
       "      <th>Perimeter</th>\n",
       "      <th>MajorAxisLength</th>\n",
       "      <th>MinorAxisLength</th>\n",
       "      <th>AspectRation</th>\n",
       "      <th>Eccentricity</th>\n",
       "      <th>ConvexArea</th>\n",
       "      <th>EquivDiameter</th>\n",
       "      <th>Extent</th>\n",
       "      <th>Solidity</th>\n",
       "      <th>roundness</th>\n",
       "      <th>Compactness</th>\n",
       "      <th>ShapeFactor1</th>\n",
       "      <th>ShapeFactor2</th>\n",
       "      <th>ShapeFactor3</th>\n",
       "      <th>ShapeFactor4</th>\n",
       "    </tr>\n",
       "  </thead>\n",
       "  <tbody>\n",
       "    <tr>\n",
       "      <th>count</th>\n",
       "      <td>10834.000000</td>\n",
       "      <td>10834.000000</td>\n",
       "      <td>10834.000000</td>\n",
       "      <td>10834.000000</td>\n",
       "      <td>10834.000000</td>\n",
       "      <td>10834.000000</td>\n",
       "      <td>10834.000000</td>\n",
       "      <td>10834.000000</td>\n",
       "      <td>10834.000000</td>\n",
       "      <td>10834.000000</td>\n",
       "      <td>10834.000000</td>\n",
       "      <td>10834.000000</td>\n",
       "      <td>10834.000000</td>\n",
       "      <td>10834.000000</td>\n",
       "      <td>10834.000000</td>\n",
       "      <td>10834.000000</td>\n",
       "      <td>10834.000000</td>\n",
       "    </tr>\n",
       "    <tr>\n",
       "      <th>mean</th>\n",
       "      <td>5416.500000</td>\n",
       "      <td>53095.675189</td>\n",
       "      <td>855.274892</td>\n",
       "      <td>320.036169</td>\n",
       "      <td>202.410342</td>\n",
       "      <td>1.581294</td>\n",
       "      <td>0.750588</td>\n",
       "      <td>53816.205926</td>\n",
       "      <td>253.123583</td>\n",
       "      <td>0.749937</td>\n",
       "      <td>0.987152</td>\n",
       "      <td>0.873647</td>\n",
       "      <td>0.800244</td>\n",
       "      <td>0.006559</td>\n",
       "      <td>0.001718</td>\n",
       "      <td>0.644139</td>\n",
       "      <td>0.995083</td>\n",
       "    </tr>\n",
       "    <tr>\n",
       "      <th>std</th>\n",
       "      <td>3127.650742</td>\n",
       "      <td>29542.542580</td>\n",
       "      <td>214.991122</td>\n",
       "      <td>85.961630</td>\n",
       "      <td>45.113965</td>\n",
       "      <td>0.244314</td>\n",
       "      <td>0.091481</td>\n",
       "      <td>29999.710739</td>\n",
       "      <td>59.433080</td>\n",
       "      <td>0.048949</td>\n",
       "      <td>0.004626</td>\n",
       "      <td>0.059344</td>\n",
       "      <td>0.061228</td>\n",
       "      <td>0.001127</td>\n",
       "      <td>0.000593</td>\n",
       "      <td>0.098268</td>\n",
       "      <td>0.004306</td>\n",
       "    </tr>\n",
       "    <tr>\n",
       "      <th>min</th>\n",
       "      <td>0.000000</td>\n",
       "      <td>20420.000000</td>\n",
       "      <td>524.932000</td>\n",
       "      <td>183.601165</td>\n",
       "      <td>129.576207</td>\n",
       "      <td>1.024868</td>\n",
       "      <td>0.218951</td>\n",
       "      <td>20684.000000</td>\n",
       "      <td>161.243764</td>\n",
       "      <td>0.555315</td>\n",
       "      <td>0.919246</td>\n",
       "      <td>0.489618</td>\n",
       "      <td>0.645368</td>\n",
       "      <td>0.002856</td>\n",
       "      <td>0.000564</td>\n",
       "      <td>0.416499</td>\n",
       "      <td>0.947687</td>\n",
       "    </tr>\n",
       "    <tr>\n",
       "      <th>25%</th>\n",
       "      <td>2708.250000</td>\n",
       "      <td>36343.500000</td>\n",
       "      <td>703.601250</td>\n",
       "      <td>253.501071</td>\n",
       "      <td>175.927024</td>\n",
       "      <td>1.432985</td>\n",
       "      <td>0.716250</td>\n",
       "      <td>36731.250000</td>\n",
       "      <td>215.113880</td>\n",
       "      <td>0.718778</td>\n",
       "      <td>0.985627</td>\n",
       "      <td>0.833479</td>\n",
       "      <td>0.763378</td>\n",
       "      <td>0.005888</td>\n",
       "      <td>0.001161</td>\n",
       "      <td>0.582747</td>\n",
       "      <td>0.993690</td>\n",
       "    </tr>\n",
       "    <tr>\n",
       "      <th>50%</th>\n",
       "      <td>5416.500000</td>\n",
       "      <td>44645.000000</td>\n",
       "      <td>793.739500</td>\n",
       "      <td>296.377365</td>\n",
       "      <td>192.525040</td>\n",
       "      <td>1.550761</td>\n",
       "      <td>0.764314</td>\n",
       "      <td>45148.000000</td>\n",
       "      <td>238.419335</td>\n",
       "      <td>0.760141</td>\n",
       "      <td>0.988290</td>\n",
       "      <td>0.883472</td>\n",
       "      <td>0.801428</td>\n",
       "      <td>0.006643</td>\n",
       "      <td>0.001700</td>\n",
       "      <td>0.642287</td>\n",
       "      <td>0.996397</td>\n",
       "    </tr>\n",
       "    <tr>\n",
       "      <th>75%</th>\n",
       "      <td>8124.750000</td>\n",
       "      <td>61295.000000</td>\n",
       "      <td>975.517500</td>\n",
       "      <td>376.068399</td>\n",
       "      <td>217.315195</td>\n",
       "      <td>1.703029</td>\n",
       "      <td>0.809450</td>\n",
       "      <td>62251.500000</td>\n",
       "      <td>279.362162</td>\n",
       "      <td>0.786871</td>\n",
       "      <td>0.990014</td>\n",
       "      <td>0.916883</td>\n",
       "      <td>0.834068</td>\n",
       "      <td>0.007268</td>\n",
       "      <td>0.002169</td>\n",
       "      <td>0.695670</td>\n",
       "      <td>0.997895</td>\n",
       "    </tr>\n",
       "    <tr>\n",
       "      <th>max</th>\n",
       "      <td>10833.000000</td>\n",
       "      <td>254616.000000</td>\n",
       "      <td>1985.370000</td>\n",
       "      <td>738.860153</td>\n",
       "      <td>450.926187</td>\n",
       "      <td>2.388873</td>\n",
       "      <td>0.908167</td>\n",
       "      <td>263261.000000</td>\n",
       "      <td>569.374358</td>\n",
       "      <td>0.866195</td>\n",
       "      <td>0.994677</td>\n",
       "      <td>0.990685</td>\n",
       "      <td>0.987303</td>\n",
       "      <td>0.009897</td>\n",
       "      <td>0.003665</td>\n",
       "      <td>0.974767</td>\n",
       "      <td>0.999733</td>\n",
       "    </tr>\n",
       "  </tbody>\n",
       "</table>\n",
       "</div>"
      ],
      "text/plain": [
       "                 ID           Area     Perimeter  MajorAxisLength  \\\n",
       "count  10834.000000   10834.000000  10834.000000     10834.000000   \n",
       "mean    5416.500000   53095.675189    855.274892       320.036169   \n",
       "std     3127.650742   29542.542580    214.991122        85.961630   \n",
       "min        0.000000   20420.000000    524.932000       183.601165   \n",
       "25%     2708.250000   36343.500000    703.601250       253.501071   \n",
       "50%     5416.500000   44645.000000    793.739500       296.377365   \n",
       "75%     8124.750000   61295.000000    975.517500       376.068399   \n",
       "max    10833.000000  254616.000000   1985.370000       738.860153   \n",
       "\n",
       "       MinorAxisLength  AspectRation  Eccentricity     ConvexArea  \\\n",
       "count     10834.000000  10834.000000  10834.000000   10834.000000   \n",
       "mean        202.410342      1.581294      0.750588   53816.205926   \n",
       "std          45.113965      0.244314      0.091481   29999.710739   \n",
       "min         129.576207      1.024868      0.218951   20684.000000   \n",
       "25%         175.927024      1.432985      0.716250   36731.250000   \n",
       "50%         192.525040      1.550761      0.764314   45148.000000   \n",
       "75%         217.315195      1.703029      0.809450   62251.500000   \n",
       "max         450.926187      2.388873      0.908167  263261.000000   \n",
       "\n",
       "       EquivDiameter        Extent      Solidity     roundness   Compactness  \\\n",
       "count   10834.000000  10834.000000  10834.000000  10834.000000  10834.000000   \n",
       "mean      253.123583      0.749937      0.987152      0.873647      0.800244   \n",
       "std        59.433080      0.048949      0.004626      0.059344      0.061228   \n",
       "min       161.243764      0.555315      0.919246      0.489618      0.645368   \n",
       "25%       215.113880      0.718778      0.985627      0.833479      0.763378   \n",
       "50%       238.419335      0.760141      0.988290      0.883472      0.801428   \n",
       "75%       279.362162      0.786871      0.990014      0.916883      0.834068   \n",
       "max       569.374358      0.866195      0.994677      0.990685      0.987303   \n",
       "\n",
       "       ShapeFactor1  ShapeFactor2  ShapeFactor3  ShapeFactor4  \n",
       "count  10834.000000  10834.000000  10834.000000  10834.000000  \n",
       "mean       0.006559      0.001718      0.644139      0.995083  \n",
       "std        0.001127      0.000593      0.098268      0.004306  \n",
       "min        0.002856      0.000564      0.416499      0.947687  \n",
       "25%        0.005888      0.001161      0.582747      0.993690  \n",
       "50%        0.006643      0.001700      0.642287      0.996397  \n",
       "75%        0.007268      0.002169      0.695670      0.997895  \n",
       "max        0.009897      0.003665      0.974767      0.999733  "
      ]
     },
     "execution_count": 6,
     "metadata": {},
     "output_type": "execute_result"
    }
   ],
   "source": [
    "data.describe()"
   ]
  },
  {
   "cell_type": "code",
   "execution_count": null,
   "metadata": {},
   "outputs": [],
   "source": [
    "# sns.pairplot(data,hue=\"y\")"
   ]
  },
  {
   "cell_type": "code",
   "execution_count": 7,
   "metadata": {},
   "outputs": [
    {
     "data": {
      "text/plain": [
       "DERMASON    0.261861\n",
       "SIRA        0.194665\n",
       "SEKER       0.149622\n",
       "HOROZ       0.137345\n",
       "CALI        0.120362\n",
       "BARBUNYA    0.097563\n",
       "BOMBAY      0.038582\n",
       "Name: y, dtype: float64"
      ]
     },
     "execution_count": 7,
     "metadata": {},
     "output_type": "execute_result"
    }
   ],
   "source": [
    "data['y'].value_counts(normalize=True)"
   ]
  },
  {
   "cell_type": "code",
   "execution_count": 8,
   "metadata": {},
   "outputs": [
    {
     "data": {
      "text/plain": [
       "array([[0, 58238, 971.303, ..., 0.4699939717666177, 0.9985950088358464,\n",
       "        'HOROZ'],\n",
       "       [1, 44515, 757.6010000000001, ..., 0.8035104366666684,\n",
       "        0.9973699821378832, 'SEKER'],\n",
       "       [2, 31662, 653.7830000000001, ..., 0.7004532870310671,\n",
       "        0.9977374579620564, 'DERMASON'],\n",
       "       ...,\n",
       "       [10831, 81837, 1095.937, ..., 0.5536104367878766,\n",
       "        0.9944118926806816, 'CALI'],\n",
       "       [10832, 48212, 826.3620000000002, ..., 0.640254526594677,\n",
       "        0.9947926877983206, 'SIRA'],\n",
       "       [10833, 28026, 610.943, ..., 0.7687622900307359,\n",
       "        0.9993171271748076, 'DERMASON']], dtype=object)"
      ]
     },
     "execution_count": 8,
     "metadata": {},
     "output_type": "execute_result"
    }
   ],
   "source": [
    "data.values"
   ]
  },
  {
   "cell_type": "code",
   "execution_count": 9,
   "metadata": {},
   "outputs": [
    {
     "name": "stdout",
     "output_type": "stream",
     "text": [
      "0\n"
     ]
    },
    {
     "data": {
      "text/plain": [
       "array([4, 5, 3, ..., 2, 6, 3])"
      ]
     },
     "execution_count": 9,
     "metadata": {},
     "output_type": "execute_result"
    }
   ],
   "source": [
    "le = LabelEncoder()    # CONVERT CATOGRICAL (\"Y\") TO NO\n",
    "y = le.fit_transform(data['y'])\n",
    "print(y[10])\n",
    "data['y'].head(20)\n",
    "y"
   ]
  },
  {
   "cell_type": "code",
   "execution_count": 10,
   "metadata": {},
   "outputs": [],
   "source": [
    "features = np.array(data.drop(columns=['y'] ,axis=1).values)\n",
    "labels=np.array(data['y'].values)"
   ]
  },
  {
   "cell_type": "code",
   "execution_count": null,
   "metadata": {},
   "outputs": [],
   "source": [
    "data.shape[0]"
   ]
  },
  {
   "cell_type": "code",
   "execution_count": null,
   "metadata": {},
   "outputs": [],
   "source": [
    "# sns.relplot(data=data)"
   ]
  },
  {
   "cell_type": "code",
   "execution_count": null,
   "metadata": {},
   "outputs": [],
   "source": [
    "# corrMatrix = data.corr()\n",
    "# sns.heatmap(corrMatrix, annot=True)\n",
    "# plt.savefig('foo.png')\n",
    "# plt.show()"
   ]
  },
  {
   "cell_type": "code",
   "execution_count": null,
   "metadata": {},
   "outputs": [],
   "source": [
    "data.corr()"
   ]
  },
  {
   "cell_type": "code",
   "execution_count": null,
   "metadata": {},
   "outputs": [],
   "source": [
    "data.isnull()"
   ]
  },
  {
   "cell_type": "code",
   "execution_count": null,
   "metadata": {},
   "outputs": [],
   "source": [
    "result = data.isna().sum(axis=0)\n",
    "result[result!=0]"
   ]
  },
  {
   "cell_type": "code",
   "execution_count": null,
   "metadata": {},
   "outputs": [],
   "source": [
    "data.info()"
   ]
  },
  {
   "cell_type": "markdown",
   "metadata": {},
   "source": [
    "# Data Split"
   ]
  },
  {
   "cell_type": "code",
   "execution_count": 11,
   "metadata": {},
   "outputs": [],
   "source": [
    "from sklearn.model_selection import train_test_split\n",
    "X_train, X_validation, y_train, y_validation = train_test_split(features, labels, test_size = 0.3, random_state = 42)"
   ]
  },
  {
   "cell_type": "markdown",
   "metadata": {},
   "source": [
    "# modeling"
   ]
  },
  {
   "cell_type": "markdown",
   "metadata": {},
   "source": [
    "# LogisticRegression"
   ]
  },
  {
   "cell_type": "code",
   "execution_count": 24,
   "metadata": {},
   "outputs": [
    {
     "name": "stderr",
     "output_type": "stream",
     "text": [
      "C:\\Users\\sawsa\\anaconda3\\lib\\site-packages\\sklearn\\linear_model\\_logistic.py:762: ConvergenceWarning: lbfgs failed to converge (status=1):\n",
      "STOP: TOTAL NO. of ITERATIONS REACHED LIMIT.\n",
      "\n",
      "Increase the number of iterations (max_iter) or scale the data as shown in:\n",
      "    https://scikit-learn.org/stable/modules/preprocessing.html\n",
      "Please also refer to the documentation for alternative solver options:\n",
      "    https://scikit-learn.org/stable/modules/linear_model.html#logistic-regression\n",
      "  n_iter_i = _check_optimize_result(\n"
     ]
    },
    {
     "data": {
      "text/plain": [
       "LogisticRegression()"
      ]
     },
     "execution_count": 24,
     "metadata": {},
     "output_type": "execute_result"
    }
   ],
   "source": [
    "from sklearn.linear_model import LogisticRegression\n",
    "from sklearn import preprocessing  #FOR Normaize\n",
    "X_train=preprocessing.scale(X_train)\n",
    "X_validation=preprocessing.scale(X_validation)\n",
    "clf = LogisticRegression()\n",
    "clf.fit(X_train, y_train)\n"
   ]
  },
  {
   "cell_type": "code",
   "execution_count": 16,
   "metadata": {},
   "outputs": [
    {
     "name": "stdout",
     "output_type": "stream",
     "text": [
      "Scores of the model\n",
      "Logistic regression: 0.9246385727468471\n"
     ]
    }
   ],
   "source": [
    "print(\"Scores of the model\")\n",
    "print(\"Logistic regression:\", clf.score( X_validation, y_validation))"
   ]
  },
  {
   "cell_type": "code",
   "execution_count": 17,
   "metadata": {},
   "outputs": [
    {
     "name": "stdout",
     "output_type": "stream",
     "text": [
      "['DERMASON' 'CALI' 'DERMASON' ... 'SEKER' 'CALI' 'CALI']\n"
     ]
    }
   ],
   "source": [
    "# Store predicted class labels of X\n",
    "prediction = clf.predict(X_validation)\n",
    "\n",
    "# Prints the predicted class labels of X\n",
    "print(prediction)\n"
   ]
  },
  {
   "cell_type": "code",
   "execution_count": 40,
   "metadata": {},
   "outputs": [],
   "source": []
  },
  {
   "cell_type": "markdown",
   "metadata": {},
   "source": [
    "# K-NEAREST NEIGHBORS IN SCIKIT-LEARN."
   ]
  },
  {
   "cell_type": "code",
   "execution_count": 37,
   "metadata": {},
   "outputs": [
    {
     "name": "stdout",
     "output_type": "stream",
     "text": [
      "Scores of the model\n",
      "knn: 0.9154106428791141\n"
     ]
    }
   ],
   "source": [
    "\n",
    "from sklearn.neighbors import KNeighborsClassifier\n",
    "\n",
    "# Declare an of the KNN classifier class with the value with neighbors.\n",
    "knn = KNeighborsClassifier(n_neighbors=7)\n",
    "\n",
    "# Fit the model with training data and target values\n",
    "knn.fit(X_train, y_train)\n",
    "print(\"Scores of the model\")\n",
    "print(\"knn:\", knn.score( X_validation, y_validation))"
   ]
  },
  {
   "cell_type": "code",
   "execution_count": 59,
   "metadata": {},
   "outputs": [
    {
     "name": "stdout",
     "output_type": "stream",
     "text": [
      "['DERMASON' 'CALI' 'DERMASON' ... 'SIRA' 'CALI' 'BARBUNYA']\n"
     ]
    }
   ],
   "source": [
    "# Store predicted class labels of X\n",
    "prediction = knn.predict(X_validation)\n",
    "\n",
    "# Prints the predicted class labels of X\n",
    "print(prediction)"
   ]
  },
  {
   "cell_type": "markdown",
   "metadata": {},
   "source": [
    "# TEST STEP "
   ]
  },
  {
   "cell_type": "code",
   "execution_count": 54,
   "metadata": {},
   "outputs": [
    {
     "data": {
      "text/html": [
       "<div>\n",
       "<style scoped>\n",
       "    .dataframe tbody tr th:only-of-type {\n",
       "        vertical-align: middle;\n",
       "    }\n",
       "\n",
       "    .dataframe tbody tr th {\n",
       "        vertical-align: top;\n",
       "    }\n",
       "\n",
       "    .dataframe thead th {\n",
       "        text-align: right;\n",
       "    }\n",
       "</style>\n",
       "<table border=\"1\" class=\"dataframe\">\n",
       "  <thead>\n",
       "    <tr style=\"text-align: right;\">\n",
       "      <th></th>\n",
       "      <th>ID</th>\n",
       "      <th>Area</th>\n",
       "      <th>Perimeter</th>\n",
       "      <th>MajorAxisLength</th>\n",
       "      <th>MinorAxisLength</th>\n",
       "      <th>AspectRation</th>\n",
       "      <th>Eccentricity</th>\n",
       "      <th>ConvexArea</th>\n",
       "      <th>EquivDiameter</th>\n",
       "      <th>Extent</th>\n",
       "      <th>Solidity</th>\n",
       "      <th>roundness</th>\n",
       "      <th>Compactness</th>\n",
       "      <th>ShapeFactor1</th>\n",
       "      <th>ShapeFactor2</th>\n",
       "      <th>ShapeFactor3</th>\n",
       "      <th>ShapeFactor4</th>\n",
       "    </tr>\n",
       "  </thead>\n",
       "  <tbody>\n",
       "    <tr>\n",
       "      <th>0</th>\n",
       "      <td>10834</td>\n",
       "      <td>57659</td>\n",
       "      <td>955.434</td>\n",
       "      <td>387.757607</td>\n",
       "      <td>196.625782</td>\n",
       "      <td>1.972059</td>\n",
       "      <td>0.861896</td>\n",
       "      <td>60188</td>\n",
       "      <td>270.949661</td>\n",
       "      <td>0.620790</td>\n",
       "      <td>0.957982</td>\n",
       "      <td>0.793735</td>\n",
       "      <td>0.698760</td>\n",
       "      <td>0.006725</td>\n",
       "      <td>0.000989</td>\n",
       "      <td>0.488266</td>\n",
       "      <td>0.962889</td>\n",
       "    </tr>\n",
       "    <tr>\n",
       "      <th>1</th>\n",
       "      <td>10835</td>\n",
       "      <td>28772</td>\n",
       "      <td>630.362</td>\n",
       "      <td>229.990785</td>\n",
       "      <td>159.609367</td>\n",
       "      <td>1.440960</td>\n",
       "      <td>0.719993</td>\n",
       "      <td>29127</td>\n",
       "      <td>191.399185</td>\n",
       "      <td>0.767458</td>\n",
       "      <td>0.987812</td>\n",
       "      <td>0.909913</td>\n",
       "      <td>0.832204</td>\n",
       "      <td>0.007994</td>\n",
       "      <td>0.002365</td>\n",
       "      <td>0.692563</td>\n",
       "      <td>0.997956</td>\n",
       "    </tr>\n",
       "    <tr>\n",
       "      <th>2</th>\n",
       "      <td>10836</td>\n",
       "      <td>54677</td>\n",
       "      <td>911.022</td>\n",
       "      <td>308.853903</td>\n",
       "      <td>226.398571</td>\n",
       "      <td>1.364204</td>\n",
       "      <td>0.680198</td>\n",
       "      <td>55858</td>\n",
       "      <td>263.850182</td>\n",
       "      <td>0.753013</td>\n",
       "      <td>0.978857</td>\n",
       "      <td>0.827860</td>\n",
       "      <td>0.854288</td>\n",
       "      <td>0.005649</td>\n",
       "      <td>0.001856</td>\n",
       "      <td>0.729808</td>\n",
       "      <td>0.995607</td>\n",
       "    </tr>\n",
       "    <tr>\n",
       "      <th>3</th>\n",
       "      <td>10837</td>\n",
       "      <td>24827</td>\n",
       "      <td>578.304</td>\n",
       "      <td>214.192699</td>\n",
       "      <td>147.788172</td>\n",
       "      <td>1.449322</td>\n",
       "      <td>0.723831</td>\n",
       "      <td>25121</td>\n",
       "      <td>177.794033</td>\n",
       "      <td>0.716508</td>\n",
       "      <td>0.988297</td>\n",
       "      <td>0.932871</td>\n",
       "      <td>0.830066</td>\n",
       "      <td>0.008627</td>\n",
       "      <td>0.002526</td>\n",
       "      <td>0.689009</td>\n",
       "      <td>0.998596</td>\n",
       "    </tr>\n",
       "    <tr>\n",
       "      <th>4</th>\n",
       "      <td>10838</td>\n",
       "      <td>141850</td>\n",
       "      <td>1432.847</td>\n",
       "      <td>524.923471</td>\n",
       "      <td>346.910920</td>\n",
       "      <td>1.513136</td>\n",
       "      <td>0.750492</td>\n",
       "      <td>143680</td>\n",
       "      <td>424.981211</td>\n",
       "      <td>0.804617</td>\n",
       "      <td>0.987263</td>\n",
       "      <td>0.868240</td>\n",
       "      <td>0.809606</td>\n",
       "      <td>0.003701</td>\n",
       "      <td>0.000981</td>\n",
       "      <td>0.655462</td>\n",
       "      <td>0.991803</td>\n",
       "    </tr>\n",
       "    <tr>\n",
       "      <th>...</th>\n",
       "      <td>...</td>\n",
       "      <td>...</td>\n",
       "      <td>...</td>\n",
       "      <td>...</td>\n",
       "      <td>...</td>\n",
       "      <td>...</td>\n",
       "      <td>...</td>\n",
       "      <td>...</td>\n",
       "      <td>...</td>\n",
       "      <td>...</td>\n",
       "      <td>...</td>\n",
       "      <td>...</td>\n",
       "      <td>...</td>\n",
       "      <td>...</td>\n",
       "      <td>...</td>\n",
       "      <td>...</td>\n",
       "      <td>...</td>\n",
       "    </tr>\n",
       "    <tr>\n",
       "      <th>2704</th>\n",
       "      <td>13538</td>\n",
       "      <td>66833</td>\n",
       "      <td>1018.336</td>\n",
       "      <td>400.397077</td>\n",
       "      <td>214.346215</td>\n",
       "      <td>1.867992</td>\n",
       "      <td>0.844640</td>\n",
       "      <td>67787</td>\n",
       "      <td>291.709476</td>\n",
       "      <td>0.759604</td>\n",
       "      <td>0.985927</td>\n",
       "      <td>0.809876</td>\n",
       "      <td>0.728550</td>\n",
       "      <td>0.005991</td>\n",
       "      <td>0.001041</td>\n",
       "      <td>0.530786</td>\n",
       "      <td>0.991504</td>\n",
       "    </tr>\n",
       "    <tr>\n",
       "      <th>2705</th>\n",
       "      <td>13539</td>\n",
       "      <td>40572</td>\n",
       "      <td>725.331</td>\n",
       "      <td>250.714014</td>\n",
       "      <td>206.471935</td>\n",
       "      <td>1.214276</td>\n",
       "      <td>0.567264</td>\n",
       "      <td>40900</td>\n",
       "      <td>227.283688</td>\n",
       "      <td>0.767479</td>\n",
       "      <td>0.991980</td>\n",
       "      <td>0.969089</td>\n",
       "      <td>0.906546</td>\n",
       "      <td>0.006179</td>\n",
       "      <td>0.002574</td>\n",
       "      <td>0.821825</td>\n",
       "      <td>0.997923</td>\n",
       "    </tr>\n",
       "    <tr>\n",
       "      <th>2706</th>\n",
       "      <td>13540</td>\n",
       "      <td>61226</td>\n",
       "      <td>1008.378</td>\n",
       "      <td>408.227467</td>\n",
       "      <td>199.385082</td>\n",
       "      <td>2.047432</td>\n",
       "      <td>0.872611</td>\n",
       "      <td>63901</td>\n",
       "      <td>279.204879</td>\n",
       "      <td>0.611648</td>\n",
       "      <td>0.958138</td>\n",
       "      <td>0.756657</td>\n",
       "      <td>0.683944</td>\n",
       "      <td>0.006668</td>\n",
       "      <td>0.000900</td>\n",
       "      <td>0.467780</td>\n",
       "      <td>0.957748</td>\n",
       "    </tr>\n",
       "    <tr>\n",
       "      <th>2707</th>\n",
       "      <td>13541</td>\n",
       "      <td>34238</td>\n",
       "      <td>698.847</td>\n",
       "      <td>255.829224</td>\n",
       "      <td>170.867099</td>\n",
       "      <td>1.497241</td>\n",
       "      <td>0.744255</td>\n",
       "      <td>34724</td>\n",
       "      <td>208.789788</td>\n",
       "      <td>0.724890</td>\n",
       "      <td>0.986004</td>\n",
       "      <td>0.880956</td>\n",
       "      <td>0.816130</td>\n",
       "      <td>0.007472</td>\n",
       "      <td>0.002045</td>\n",
       "      <td>0.666067</td>\n",
       "      <td>0.997263</td>\n",
       "    </tr>\n",
       "    <tr>\n",
       "      <th>2708</th>\n",
       "      <td>13542</td>\n",
       "      <td>49175</td>\n",
       "      <td>828.597</td>\n",
       "      <td>310.354804</td>\n",
       "      <td>202.329323</td>\n",
       "      <td>1.533909</td>\n",
       "      <td>0.758280</td>\n",
       "      <td>49668</td>\n",
       "      <td>250.223010</td>\n",
       "      <td>0.798166</td>\n",
       "      <td>0.990074</td>\n",
       "      <td>0.900052</td>\n",
       "      <td>0.806248</td>\n",
       "      <td>0.006311</td>\n",
       "      <td>0.001645</td>\n",
       "      <td>0.650036</td>\n",
       "      <td>0.997096</td>\n",
       "    </tr>\n",
       "  </tbody>\n",
       "</table>\n",
       "<p>2709 rows × 17 columns</p>\n",
       "</div>"
      ],
      "text/plain": [
       "         ID    Area  Perimeter  MajorAxisLength  MinorAxisLength  \\\n",
       "0     10834   57659    955.434       387.757607       196.625782   \n",
       "1     10835   28772    630.362       229.990785       159.609367   \n",
       "2     10836   54677    911.022       308.853903       226.398571   \n",
       "3     10837   24827    578.304       214.192699       147.788172   \n",
       "4     10838  141850   1432.847       524.923471       346.910920   \n",
       "...     ...     ...        ...              ...              ...   \n",
       "2704  13538   66833   1018.336       400.397077       214.346215   \n",
       "2705  13539   40572    725.331       250.714014       206.471935   \n",
       "2706  13540   61226   1008.378       408.227467       199.385082   \n",
       "2707  13541   34238    698.847       255.829224       170.867099   \n",
       "2708  13542   49175    828.597       310.354804       202.329323   \n",
       "\n",
       "      AspectRation  Eccentricity  ConvexArea  EquivDiameter    Extent  \\\n",
       "0         1.972059      0.861896       60188     270.949661  0.620790   \n",
       "1         1.440960      0.719993       29127     191.399185  0.767458   \n",
       "2         1.364204      0.680198       55858     263.850182  0.753013   \n",
       "3         1.449322      0.723831       25121     177.794033  0.716508   \n",
       "4         1.513136      0.750492      143680     424.981211  0.804617   \n",
       "...            ...           ...         ...            ...       ...   \n",
       "2704      1.867992      0.844640       67787     291.709476  0.759604   \n",
       "2705      1.214276      0.567264       40900     227.283688  0.767479   \n",
       "2706      2.047432      0.872611       63901     279.204879  0.611648   \n",
       "2707      1.497241      0.744255       34724     208.789788  0.724890   \n",
       "2708      1.533909      0.758280       49668     250.223010  0.798166   \n",
       "\n",
       "      Solidity  roundness  Compactness  ShapeFactor1  ShapeFactor2  \\\n",
       "0     0.957982   0.793735     0.698760      0.006725      0.000989   \n",
       "1     0.987812   0.909913     0.832204      0.007994      0.002365   \n",
       "2     0.978857   0.827860     0.854288      0.005649      0.001856   \n",
       "3     0.988297   0.932871     0.830066      0.008627      0.002526   \n",
       "4     0.987263   0.868240     0.809606      0.003701      0.000981   \n",
       "...        ...        ...          ...           ...           ...   \n",
       "2704  0.985927   0.809876     0.728550      0.005991      0.001041   \n",
       "2705  0.991980   0.969089     0.906546      0.006179      0.002574   \n",
       "2706  0.958138   0.756657     0.683944      0.006668      0.000900   \n",
       "2707  0.986004   0.880956     0.816130      0.007472      0.002045   \n",
       "2708  0.990074   0.900052     0.806248      0.006311      0.001645   \n",
       "\n",
       "      ShapeFactor3  ShapeFactor4  \n",
       "0         0.488266      0.962889  \n",
       "1         0.692563      0.997956  \n",
       "2         0.729808      0.995607  \n",
       "3         0.689009      0.998596  \n",
       "4         0.655462      0.991803  \n",
       "...            ...           ...  \n",
       "2704      0.530786      0.991504  \n",
       "2705      0.821825      0.997923  \n",
       "2706      0.467780      0.957748  \n",
       "2707      0.666067      0.997263  \n",
       "2708      0.650036      0.997096  \n",
       "\n",
       "[2709 rows x 17 columns]"
      ]
     },
     "execution_count": 54,
     "metadata": {},
     "output_type": "execute_result"
    }
   ],
   "source": [
    "test = pd.read_csv('test .csv')\n",
    "#test=preprocessing.scale(test)\n",
    "test"
   ]
  },
  {
   "cell_type": "code",
   "execution_count": 55,
   "metadata": {},
   "outputs": [],
   "source": [
    "id=list(test['ID'])"
   ]
  },
  {
   "cell_type": "code",
   "execution_count": 56,
   "metadata": {},
   "outputs": [],
   "source": [
    "test=preprocessing.scale(test)\n"
   ]
  },
  {
   "cell_type": "markdown",
   "metadata": {},
   "source": [
    "# knn prediction"
   ]
  },
  {
   "cell_type": "code",
   "execution_count": 57,
   "metadata": {},
   "outputs": [
    {
     "name": "stdout",
     "output_type": "stream",
     "text": [
      "['HOROZ' 'DERMASON' 'BARBUNYA' ... 'HOROZ' 'DERMASON' 'SIRA']\n"
     ]
    }
   ],
   "source": [
    "\n",
    "prediction = knn.predict(test)\n",
    "print(prediction)"
   ]
  },
  {
   "cell_type": "code",
   "execution_count": 58,
   "metadata": {},
   "outputs": [
    {
     "data": {
      "text/html": [
       "<div>\n",
       "<style scoped>\n",
       "    .dataframe tbody tr th:only-of-type {\n",
       "        vertical-align: middle;\n",
       "    }\n",
       "\n",
       "    .dataframe tbody tr th {\n",
       "        vertical-align: top;\n",
       "    }\n",
       "\n",
       "    .dataframe thead th {\n",
       "        text-align: right;\n",
       "    }\n",
       "</style>\n",
       "<table border=\"1\" class=\"dataframe\">\n",
       "  <thead>\n",
       "    <tr style=\"text-align: right;\">\n",
       "      <th></th>\n",
       "      <th>ID</th>\n",
       "      <th>y</th>\n",
       "    </tr>\n",
       "  </thead>\n",
       "  <tbody>\n",
       "    <tr>\n",
       "      <th>0</th>\n",
       "      <td>10834</td>\n",
       "      <td>HOROZ</td>\n",
       "    </tr>\n",
       "    <tr>\n",
       "      <th>1</th>\n",
       "      <td>10835</td>\n",
       "      <td>DERMASON</td>\n",
       "    </tr>\n",
       "    <tr>\n",
       "      <th>2</th>\n",
       "      <td>10836</td>\n",
       "      <td>BARBUNYA</td>\n",
       "    </tr>\n",
       "    <tr>\n",
       "      <th>3</th>\n",
       "      <td>10837</td>\n",
       "      <td>DERMASON</td>\n",
       "    </tr>\n",
       "    <tr>\n",
       "      <th>4</th>\n",
       "      <td>10838</td>\n",
       "      <td>BOMBAY</td>\n",
       "    </tr>\n",
       "    <tr>\n",
       "      <th>...</th>\n",
       "      <td>...</td>\n",
       "      <td>...</td>\n",
       "    </tr>\n",
       "    <tr>\n",
       "      <th>2704</th>\n",
       "      <td>13538</td>\n",
       "      <td>CALI</td>\n",
       "    </tr>\n",
       "    <tr>\n",
       "      <th>2705</th>\n",
       "      <td>13539</td>\n",
       "      <td>SEKER</td>\n",
       "    </tr>\n",
       "    <tr>\n",
       "      <th>2706</th>\n",
       "      <td>13540</td>\n",
       "      <td>HOROZ</td>\n",
       "    </tr>\n",
       "    <tr>\n",
       "      <th>2707</th>\n",
       "      <td>13541</td>\n",
       "      <td>DERMASON</td>\n",
       "    </tr>\n",
       "    <tr>\n",
       "      <th>2708</th>\n",
       "      <td>13542</td>\n",
       "      <td>SIRA</td>\n",
       "    </tr>\n",
       "  </tbody>\n",
       "</table>\n",
       "<p>2709 rows × 2 columns</p>\n",
       "</div>"
      ],
      "text/plain": [
       "         ID         y\n",
       "0     10834     HOROZ\n",
       "1     10835  DERMASON\n",
       "2     10836  BARBUNYA\n",
       "3     10837  DERMASON\n",
       "4     10838    BOMBAY\n",
       "...     ...       ...\n",
       "2704  13538      CALI\n",
       "2705  13539     SEKER\n",
       "2706  13540     HOROZ\n",
       "2707  13541  DERMASON\n",
       "2708  13542      SIRA\n",
       "\n",
       "[2709 rows x 2 columns]"
      ]
     },
     "execution_count": 58,
     "metadata": {},
     "output_type": "execute_result"
    }
   ],
   "source": [
    "\n",
    "pred= pd.DataFrame()\n",
    "pred['ID']=id\n",
    "pred['y']=prediction\n",
    "pred"
   ]
  },
  {
   "cell_type": "code",
   "execution_count": 59,
   "metadata": {},
   "outputs": [
    {
     "data": {
      "text/plain": [
       "DERMASON    713\n",
       "SIRA        551\n",
       "SEKER       395\n",
       "HOROZ       360\n",
       "CALI        338\n",
       "BARBUNYA    248\n",
       "BOMBAY      104\n",
       "Name: y, dtype: int64"
      ]
     },
     "execution_count": 59,
     "metadata": {},
     "output_type": "execute_result"
    }
   ],
   "source": [
    "pred['y'].value_counts()"
   ]
  },
  {
   "cell_type": "code",
   "execution_count": 77,
   "metadata": {},
   "outputs": [
    {
     "data": {
      "image/png": "[encoded data removed]",
      "text/plain": [
       "<Figure size 1080x720 with 1 Axes>"
      ]
     },
     "metadata": {},
     "output_type": "display_data"
    }
   ],
   "source": [
    "pred.groupby(['y']).sum().plot(kind='pie',startangle=90,figsize=(15,10),subplots=True, autopct='%1.1f%%')\n",
    "plt.show()"
   ]
  },
  {
   "cell_type": "markdown",
   "metadata": {},
   "source": [
    "# Export and submission data"
   ]
  },
  {
   "cell_type": "code",
   "execution_count": 60,
   "metadata": {},
   "outputs": [],
   "source": [
    "pred.to_csv('subcb.csv',index=False)"
   ]
  },
  {
   "cell_type": "code",
   "execution_count": null,
   "metadata": {},
   "outputs": [],
   "source": [
    "#  LogisticRegression Prediction"
   ]
  },
  {
   "cell_type": "code",
   "execution_count": 71,
   "metadata": {},
   "outputs": [],
   "source": [
    "#prediction2 = clf.predict(test)\n",
    "#print(prediction2)"
   ]
  },
  {
   "cell_type": "code",
   "execution_count": 72,
   "metadata": {},
   "outputs": [],
   "source": [
    "#pred2= pd.DataFrame()\n",
    "#pred2['ID']=id\n",
    "#pred2['y']=prediction2\n",
    "#pred2"
   ]
  },
  {
   "cell_type": "code",
   "execution_count": 73,
   "metadata": {},
   "outputs": [],
   "source": [
    "#pred2['y'].value_counts()"
   ]
  },
  {
   "cell_type": "code",
   "execution_count": 74,
   "metadata": {},
   "outputs": [],
   "source": [
    "#pred2.groupby(['y']).sum().plot(kind='pie',startangle=90,figsize=(15,10),subplots=True, autopct='%1.1f%%')"
   ]
  },
  {
   "cell_type": "code",
   "execution_count": 64,
   "metadata": {},
   "outputs": [],
   "source": [
    "#pred2.to_csv('subcb.csv',index=False)"
   ]
  },
  {
   "cell_type": "code",
   "execution_count": null,
   "metadata": {},
   "outputs": [],
   "source": []
  }
 ],
 "metadata": {
  "kernelspec": {
   "display_name": "Python 3",
   "language": "python",
   "name": "python3"
  },
  "language_info": {
   "codemirror_mode": {
    "name": "ipython",
    "version": 3
   },
   "file_extension": ".py",
   "mimetype": "text/x-python",
   "name": "python",
   "nbconvert_exporter": "python",
   "pygments_lexer": "ipython3",
   "version": "3.8.5"
  }
 },
 "nbformat": 4,
 "nbformat_minor": 4
}
